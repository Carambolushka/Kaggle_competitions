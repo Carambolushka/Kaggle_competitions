{
  "nbformat": 4,
  "nbformat_minor": 0,
  "metadata": {
    "colab": {
      "name": "RandomForestKaggleCompMay2021.ipynb",
      "provenance": [],
      "collapsed_sections": [],
      "mount_file_id": "1wW7GufU2Aa7WMY_O7qhMyqDRlvR45aa2",
      "authorship_tag": "ABX9TyMF9T8cQqP+OP9JwDpTDgx/",
      "include_colab_link": true
    },
    "kernelspec": {
      "name": "python3",
      "display_name": "Python 3"
    },
    "language_info": {
      "name": "python"
    }
  },
  "cells": [
    {
      "cell_type": "markdown",
      "metadata": {
        "id": "view-in-github",
        "colab_type": "text"
      },
      "source": [
        "<a href=\"https://colab.research.google.com/github/Carambolushka/Kaggle_competitions/blob/main/RandomForestKaggleCompMay2021.ipynb\" target=\"_parent\"><img src=\"https://colab.research.google.com/assets/colab-badge.svg\" alt=\"Open In Colab\"/></a>"
      ]
    },
    {
      "cell_type": "code",
      "metadata": {
        "id": "oTJ5r3Tnqre_"
      },
      "source": [
        "import pandas as pd\n",
        "import numpy as np"
      ],
      "execution_count": null,
      "outputs": []
    },
    {
      "cell_type": "code",
      "metadata": {
        "colab": {
          "base_uri": "https://localhost:8080/"
        },
        "id": "rPRKBy0SsOWu",
        "outputId": "1f52ca25-0060-4361-a345-2d7da938641e"
      },
      "source": [
        "!unzip '/content/drive/MyDrive/Colab Notebooks/May2021/test.csv.zip' test.csv\n",
        "!unzip '/content/drive/MyDrive/Colab Notebooks/May2021/train.csv.zip' train.csv"
      ],
      "execution_count": null,
      "outputs": [
        {
          "output_type": "stream",
          "text": [
            "Archive:  /content/drive/MyDrive/Colab Notebooks/May2021/test.csv.zip\n",
            "  inflating: test.csv                \n",
            "Archive:  /content/drive/MyDrive/Colab Notebooks/May2021/train.csv.zip\n",
            "  inflating: train.csv               \n"
          ],
          "name": "stdout"
        }
      ]
    },
    {
      "cell_type": "code",
      "metadata": {
        "id": "3wVEOhx8sYML"
      },
      "source": [
        "train_set = pd.read_csv('/content/train.csv')\n",
        "test_set = pd.read_csv('/content/test.csv')"
      ],
      "execution_count": null,
      "outputs": []
    },
    {
      "cell_type": "code",
      "metadata": {
        "colab": {
          "base_uri": "https://localhost:8080/"
        },
        "id": "D9SOPI1ws74E",
        "outputId": "a8c4b9c7-5d6b-4bd0-8a68-d4fffd8b48c8"
      },
      "source": [
        "train_set.shape"
      ],
      "execution_count": null,
      "outputs": [
        {
          "output_type": "execute_result",
          "data": {
            "text/plain": [
              "(100000, 52)"
            ]
          },
          "metadata": {
            "tags": []
          },
          "execution_count": 5
        }
      ]
    },
    {
      "cell_type": "markdown",
      "metadata": {
        "id": "ZcO0gR8iFTgc"
      },
      "source": [
        "There is no Null elements"
      ]
    },
    {
      "cell_type": "code",
      "metadata": {
        "colab": {
          "base_uri": "https://localhost:8080/"
        },
        "id": "hJzgaARNFYxI",
        "outputId": "03310444-d9dd-473e-f771-c4c6d992eaa7"
      },
      "source": [
        "train_set['target'].unique()"
      ],
      "execution_count": null,
      "outputs": [
        {
          "output_type": "execute_result",
          "data": {
            "text/plain": [
              "array(['Class_2', 'Class_1', 'Class_4', 'Class_3'], dtype=object)"
            ]
          },
          "metadata": {
            "tags": []
          },
          "execution_count": 6
        }
      ]
    },
    {
      "cell_type": "markdown",
      "metadata": {
        "id": "SJnVJFFuF9vX"
      },
      "source": [
        "Заменим строковые значения классов на цифры"
      ]
    },
    {
      "cell_type": "code",
      "metadata": {
        "id": "X1sw9SpHFrmq"
      },
      "source": [
        "train_set = train_set.replace({'target':{'Class_1':1, 'Class_2':2, 'Class_3':3, 'Class_4':4}})"
      ],
      "execution_count": null,
      "outputs": []
    },
    {
      "cell_type": "code",
      "metadata": {
        "colab": {
          "base_uri": "https://localhost:8080/"
        },
        "id": "uhDef9CFHdVe",
        "outputId": "dc64b78b-0680-45a3-9c43-2f8279eeae16"
      },
      "source": [
        "train_set['target'].unique()"
      ],
      "execution_count": null,
      "outputs": [
        {
          "output_type": "execute_result",
          "data": {
            "text/plain": [
              "array([2, 1, 4, 3])"
            ]
          },
          "metadata": {
            "tags": []
          },
          "execution_count": 7
        }
      ]
    },
    {
      "cell_type": "markdown",
      "metadata": {
        "id": "sNfhn377IUzC"
      },
      "source": [
        "Разделение на тест и трейн"
      ]
    },
    {
      "cell_type": "code",
      "metadata": {
        "id": "57zrzuAQJN01"
      },
      "source": [
        "from sklearn.model_selection import train_test_split\n",
        "from sklearn.metrics import log_loss\n",
        "from sklearn.ensemble import RandomForestClassifier\n",
        "from sklearn.model_selection import GridSearchCV\n",
        "from sklearn.preprocessing import Normalizer"
      ],
      "execution_count": null,
      "outputs": []
    },
    {
      "cell_type": "code",
      "metadata": {
        "id": "boY7CFqpIUAb"
      },
      "source": [
        "train, test = train_test_split(train_set, test_size=0.3, train_size=0.7, random_state=42)"
      ],
      "execution_count": null,
      "outputs": []
    },
    {
      "cell_type": "code",
      "metadata": {
        "id": "d7NdXwwlK1UE"
      },
      "source": [
        "# train set\n",
        "x = train.drop(labels=['target'], axis=1)\n",
        "y = train['target']\n",
        "#test set\n",
        "x_test=test.drop(labels='target', axis=1)\n",
        "y_test=test['target']"
      ],
      "execution_count": null,
      "outputs": []
    },
    {
      "cell_type": "code",
      "metadata": {
        "id": "DympYEmf3OXm"
      },
      "source": [
        "# normalization\n",
        "transformer = Normalizer().fit(x)  # fit does nothing.\n",
        "\n",
        "x=transformer.transform(x)"
      ],
      "execution_count": null,
      "outputs": []
    },
    {
      "cell_type": "code",
      "metadata": {
        "id": "FB_ceDhrm1y4"
      },
      "source": [
        "def preds_test_function(model, test_set=test_set):\n",
        "    preds_test=model.predict_proba(test_set)\n",
        "    result_test=pd.DataFrame(preds_test, index=test_set['id'], columns=['Class_1','Class_2','Class_3','Class_4']).reset_index()\n",
        "    result_test.to_csv('answer_kaggle.csv', index=False)\n",
        "    print('CSV file \"answer_kaggle.csv\"succesfully loaded')\n",
        "    return"
      ],
      "execution_count": null,
      "outputs": []
    },
    {
      "cell_type": "code",
      "metadata": {
        "id": "EEtUBJgwPwo0"
      },
      "source": [
        "model=RandomForestClassifier(random_state=42, criterion='gini', n_estimators=50, max_depth=10, max_features='log2', n_jobs=-1)"
      ],
      "execution_count": null,
      "outputs": []
    },
    {
      "cell_type": "markdown",
      "metadata": {
        "id": "RRXlK5QagiTt"
      },
      "source": [
        "План!\n",
        "\n",
        "1) Использовать рандом форест\n",
        "\n",
        "1.2) использовать гридсерч\n",
        "\n",
        "2) выполнить нормализацию данных\n",
        "\n",
        "3) понизить разменость"
      ]
    },
    {
      "cell_type": "code",
      "metadata": {
        "id": "m_SXOQnDhKDi"
      },
      "source": [
        "#parameters = {'criterion':'gini', 'n_estimators':70, 'max_depth':10}"
      ],
      "execution_count": null,
      "outputs": []
    },
    {
      "cell_type": "code",
      "metadata": {
        "id": "TpNW-hmUhKGc"
      },
      "source": [
        "#model_grid = GridSearchCV(model, parameters)"
      ],
      "execution_count": null,
      "outputs": []
    },
    {
      "cell_type": "code",
      "metadata": {
        "colab": {
          "base_uri": "https://localhost:8080/"
        },
        "id": "EkVDdDwFjbIX",
        "outputId": "1bdad955-c156-44f8-b675-4820727ea1a4"
      },
      "source": [
        "model.fit(x,y)"
      ],
      "execution_count": null,
      "outputs": [
        {
          "output_type": "execute_result",
          "data": {
            "text/plain": [
              "RandomForestClassifier(bootstrap=True, ccp_alpha=0.0, class_weight=None,\n",
              "                       criterion='gini', max_depth=10, max_features='log2',\n",
              "                       max_leaf_nodes=None, max_samples=None,\n",
              "                       min_impurity_decrease=0.0, min_impurity_split=None,\n",
              "                       min_samples_leaf=1, min_samples_split=2,\n",
              "                       min_weight_fraction_leaf=0.0, n_estimators=20, n_jobs=-1,\n",
              "                       oob_score=False, random_state=42, verbose=0,\n",
              "                       warm_start=False)"
            ]
          },
          "metadata": {
            "tags": []
          },
          "execution_count": 75
        }
      ]
    },
    {
      "cell_type": "code",
      "metadata": {
        "id": "nSU5eMJSjgeC"
      },
      "source": [
        "#best_model = model_grid.best_estimator_"
      ],
      "execution_count": null,
      "outputs": []
    },
    {
      "cell_type": "code",
      "metadata": {
        "id": "YFUuTexbkW0q"
      },
      "source": [
        "preds = model.predict_proba(x_test)"
      ],
      "execution_count": null,
      "outputs": []
    },
    {
      "cell_type": "code",
      "metadata": {
        "colab": {
          "base_uri": "https://localhost:8080/"
        },
        "id": "GNIlLBtKlV6N",
        "outputId": "9c97e45b-4eac-4f74-f613-1a03d432dbcd"
      },
      "source": [
        "log_loss(y_test, preds)"
      ],
      "execution_count": null,
      "outputs": [
        {
          "output_type": "execute_result",
          "data": {
            "text/plain": [
              "1.1040356112412162"
            ]
          },
          "metadata": {
            "tags": []
          },
          "execution_count": 78
        }
      ]
    },
    {
      "cell_type": "markdown",
      "metadata": {
        "id": "_FFRie0mwKXD"
      },
      "source": [
        "Предсказание на тестовом датасете из Кагла"
      ]
    },
    {
      "cell_type": "code",
      "metadata": {
        "colab": {
          "base_uri": "https://localhost:8080/"
        },
        "id": "ZEGsnootsl6y",
        "outputId": "0eed274e-cae6-4f13-b07e-7a404f100dfc"
      },
      "source": [
        "preds_test_function(best_model)"
      ],
      "execution_count": null,
      "outputs": [
        {
          "output_type": "stream",
          "text": [
            "CSV file \"answer_kaggle.csv\"succesfully loaded\n"
          ],
          "name": "stdout"
        }
      ]
    },
    {
      "cell_type": "code",
      "metadata": {
        "id": "Bc5CjXFZtKyu"
      },
      "source": [
        ""
      ],
      "execution_count": null,
      "outputs": []
    }
  ]
}