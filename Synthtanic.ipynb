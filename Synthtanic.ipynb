{
  "nbformat": 4,
  "nbformat_minor": 0,
  "metadata": {
    "colab": {
      "name": "Synthtanic.ipynb",
      "provenance": [],
      "collapsed_sections": [],
      "include_colab_link": true
    },
    "kernelspec": {
      "name": "python3",
      "display_name": "Python 3"
    },
    "language_info": {
      "name": "python"
    }
  },
  "cells": [
    {
      "cell_type": "markdown",
      "metadata": {
        "id": "view-in-github",
        "colab_type": "text"
      },
      "source": [
        "<a href=\"https://colab.research.google.com/github/Carambolushka/Kaggle_competitions/blob/main/Synthtanic.ipynb\" target=\"_parent\"><img src=\"https://colab.research.google.com/assets/colab-badge.svg\" alt=\"Open In Colab\"/></a>"
      ]
    },
    {
      "cell_type": "code",
      "metadata": {
        "id": "yrzhw26_J8uA"
      },
      "source": [
        "import pandas as pd\n",
        "import numpy as np\n",
        "import matplotlib.pyplot as plt"
      ],
      "execution_count": null,
      "outputs": []
    },
    {
      "cell_type": "markdown",
      "metadata": {
        "id": "z8Cow6v-NsoH"
      },
      "source": [
        "Идея!\n",
        "Попробавать рандомный лес\n",
        "\n",
        "Попробовать классификацию\n",
        "\n",
        "Посмотреть на фичи"
      ]
    },
    {
      "cell_type": "code",
      "metadata": {
        "colab": {
          "base_uri": "https://localhost:8080/"
        },
        "id": "-rKHoTmuOclD",
        "outputId": "c3679e42-fedc-4912-f81a-c4e0416d0f2d"
      },
      "source": [
        "!unzip '/content/drive/MyDrive/Data for Colab/Synthtanic/train.csv.zip' train.csv\n",
        "!unzip '/content/drive/MyDrive/Data for Colab/Synthtanic/test.csv.zip' test.csv"
      ],
      "execution_count": null,
      "outputs": [
        {
          "output_type": "stream",
          "text": [
            "Archive:  /content/drive/MyDrive/Data for Colab/Synthtanic/train.csv.zip\n",
            "replace train.csv? [y]es, [n]o, [A]ll, [N]one, [r]ename: N\n",
            "Archive:  /content/drive/MyDrive/Data for Colab/Synthtanic/test.csv.zip\n",
            "  inflating: test.csv                \n"
          ],
          "name": "stdout"
        }
      ]
    },
    {
      "cell_type": "code",
      "metadata": {
        "id": "yTOUDPC2KhuR"
      },
      "source": [
        "train = pd.read_csv('/content/train.csv')\n",
        "test = pd.read_csv('/content/test.csv')"
      ],
      "execution_count": null,
      "outputs": []
    },
    {
      "cell_type": "code",
      "metadata": {
        "colab": {
          "base_uri": "https://localhost:8080/",
          "height": 195
        },
        "id": "3bhWYhHjPzq8",
        "outputId": "c8b8f25e-3609-4ef6-f007-a44a34f7b100"
      },
      "source": [
        "train.head(5)"
      ],
      "execution_count": null,
      "outputs": [
        {
          "output_type": "execute_result",
          "data": {
            "text/html": [
              "<div>\n",
              "<style scoped>\n",
              "    .dataframe tbody tr th:only-of-type {\n",
              "        vertical-align: middle;\n",
              "    }\n",
              "\n",
              "    .dataframe tbody tr th {\n",
              "        vertical-align: top;\n",
              "    }\n",
              "\n",
              "    .dataframe thead th {\n",
              "        text-align: right;\n",
              "    }\n",
              "</style>\n",
              "<table border=\"1\" class=\"dataframe\">\n",
              "  <thead>\n",
              "    <tr style=\"text-align: right;\">\n",
              "      <th></th>\n",
              "      <th>PassengerId</th>\n",
              "      <th>Survived</th>\n",
              "      <th>Pclass</th>\n",
              "      <th>Name</th>\n",
              "      <th>Sex</th>\n",
              "      <th>Age</th>\n",
              "      <th>SibSp</th>\n",
              "      <th>Parch</th>\n",
              "      <th>Ticket</th>\n",
              "      <th>Fare</th>\n",
              "      <th>Cabin</th>\n",
              "      <th>Embarked</th>\n",
              "    </tr>\n",
              "  </thead>\n",
              "  <tbody>\n",
              "    <tr>\n",
              "      <th>0</th>\n",
              "      <td>0</td>\n",
              "      <td>1</td>\n",
              "      <td>1</td>\n",
              "      <td>Oconnor, Frankie</td>\n",
              "      <td>male</td>\n",
              "      <td>NaN</td>\n",
              "      <td>2</td>\n",
              "      <td>0</td>\n",
              "      <td>209245</td>\n",
              "      <td>27.14</td>\n",
              "      <td>C12239</td>\n",
              "      <td>S</td>\n",
              "    </tr>\n",
              "    <tr>\n",
              "      <th>1</th>\n",
              "      <td>1</td>\n",
              "      <td>0</td>\n",
              "      <td>3</td>\n",
              "      <td>Bryan, Drew</td>\n",
              "      <td>male</td>\n",
              "      <td>NaN</td>\n",
              "      <td>0</td>\n",
              "      <td>0</td>\n",
              "      <td>27323</td>\n",
              "      <td>13.35</td>\n",
              "      <td>NaN</td>\n",
              "      <td>S</td>\n",
              "    </tr>\n",
              "    <tr>\n",
              "      <th>2</th>\n",
              "      <td>2</td>\n",
              "      <td>0</td>\n",
              "      <td>3</td>\n",
              "      <td>Owens, Kenneth</td>\n",
              "      <td>male</td>\n",
              "      <td>0.33</td>\n",
              "      <td>1</td>\n",
              "      <td>2</td>\n",
              "      <td>CA 457703</td>\n",
              "      <td>71.29</td>\n",
              "      <td>NaN</td>\n",
              "      <td>S</td>\n",
              "    </tr>\n",
              "    <tr>\n",
              "      <th>3</th>\n",
              "      <td>3</td>\n",
              "      <td>0</td>\n",
              "      <td>3</td>\n",
              "      <td>Kramer, James</td>\n",
              "      <td>male</td>\n",
              "      <td>19.00</td>\n",
              "      <td>0</td>\n",
              "      <td>0</td>\n",
              "      <td>A. 10866</td>\n",
              "      <td>13.04</td>\n",
              "      <td>NaN</td>\n",
              "      <td>S</td>\n",
              "    </tr>\n",
              "    <tr>\n",
              "      <th>4</th>\n",
              "      <td>4</td>\n",
              "      <td>1</td>\n",
              "      <td>3</td>\n",
              "      <td>Bond, Michael</td>\n",
              "      <td>male</td>\n",
              "      <td>25.00</td>\n",
              "      <td>0</td>\n",
              "      <td>0</td>\n",
              "      <td>427635</td>\n",
              "      <td>7.76</td>\n",
              "      <td>NaN</td>\n",
              "      <td>S</td>\n",
              "    </tr>\n",
              "  </tbody>\n",
              "</table>\n",
              "</div>"
            ],
            "text/plain": [
              "   PassengerId  Survived  Pclass  ...   Fare   Cabin  Embarked\n",
              "0            0         1       1  ...  27.14  C12239         S\n",
              "1            1         0       3  ...  13.35     NaN         S\n",
              "2            2         0       3  ...  71.29     NaN         S\n",
              "3            3         0       3  ...  13.04     NaN         S\n",
              "4            4         1       3  ...   7.76     NaN         S\n",
              "\n",
              "[5 rows x 12 columns]"
            ]
          },
          "metadata": {
            "tags": []
          },
          "execution_count": 4
        }
      ]
    },
    {
      "cell_type": "markdown",
      "metadata": {
        "id": "F3X00qzEe3Pm"
      },
      "source": [
        "Разделим сет на train, validation и test в отношении 80%/10%/10%"
      ]
    },
    {
      "cell_type": "markdown",
      "metadata": {
        "id": "Xp7OFI2Sj6Hj"
      },
      "source": [
        ""
      ]
    },
    {
      "cell_type": "markdown",
      "metadata": {
        "id": "x2VDwF-Oj6LX"
      },
      "source": [
        "Теперь работа будет проводиться только с train_sample"
      ]
    },
    {
      "cell_type": "markdown",
      "metadata": {
        "id": "3-qnyYClRkfL"
      },
      "source": [
        "Смотрим на нули"
      ]
    },
    {
      "cell_type": "code",
      "metadata": {
        "id": "xe7gYgaRjjEs"
      },
      "source": [
        "def describe_dataset(dataset):\n",
        "    print(f'всего {len(dataset.columns)} колонок')\n",
        "    for i in range (len(dataset.columns)):\n",
        "        print(f'Информация о колонке {dataset.columns[i]}')\n",
        "        if len(dataset[dataset.columns[i]].unique()) > 10:\n",
        "            print(f'В колонке {dataset.columns[i]} более 10 уникальных значений')\n",
        "            print(f'Пример значений: {dataset[dataset.columns[i]][100]}')\n",
        "            print(f'В колонке {dataset.columns[i]} - {sum(train[train.columns[i]].isna())} нулевых значений')\n",
        "            print(f'В колонке {dataset.columns[i]} - {sum(train[train.columns[i]].notna())} ненулевых значений')\n",
        "            print('\\n', '*'*35)\n",
        "        else:\n",
        "            print(f'В колонке {dataset.columns[i]} следующие уникальные значения: {dataset[dataset.columns[i]].unique()}')\n",
        "            print(f'В колонке {dataset.columns[i]} - {sum(train[train.columns[i]].isna())} нулевых значений')\n",
        "            print(f'В колонке {dataset.columns[i]} - {sum(train[train.columns[i]].notna())} ненулевых значений')\n",
        "            print('\\n', '*'*35)\n",
        "    return"
      ],
      "execution_count": null,
      "outputs": []
    },
    {
      "cell_type": "code",
      "metadata": {
        "colab": {
          "base_uri": "https://localhost:8080/"
        },
        "id": "o3hc9yvfnCle",
        "outputId": "f915a06c-f481-4b1d-b1e3-78f510fec9de"
      },
      "source": [
        "describe_dataset(train)"
      ],
      "execution_count": null,
      "outputs": [
        {
          "output_type": "stream",
          "text": [
            "всего 12 колонок\n",
            "Информация о колонке PassengerId\n",
            "В колонке PassengerId более 10 уникальных значений\n",
            "Пример значений: 100\n",
            "В колонке PassengerId - 0 нулевых значений\n",
            "В колонке PassengerId - 100000 ненулевых значений\n",
            "\n",
            " ***********************************\n",
            "Информация о колонке Survived\n",
            "В колонке Survived следующие уникальные значения: [1 0]\n",
            "В колонке Survived - 0 нулевых значений\n",
            "В колонке Survived - 100000 ненулевых значений\n",
            "\n",
            " ***********************************\n",
            "Информация о колонке Pclass\n",
            "В колонке Pclass следующие уникальные значения: [1 3 2]\n",
            "В колонке Pclass - 0 нулевых значений\n",
            "В колонке Pclass - 100000 ненулевых значений\n",
            "\n",
            " ***********************************\n",
            "Информация о колонке Name\n",
            "В колонке Name более 10 уникальных значений\n",
            "Пример значений: Farber, Efrain\n",
            "В колонке Name - 0 нулевых значений\n",
            "В колонке Name - 100000 ненулевых значений\n",
            "\n",
            " ***********************************\n",
            "Информация о колонке Sex\n",
            "В колонке Sex следующие уникальные значения: ['male' 'female']\n",
            "В колонке Sex - 0 нулевых значений\n",
            "В колонке Sex - 100000 ненулевых значений\n",
            "\n",
            " ***********************************\n",
            "Информация о колонке Age\n",
            "В колонке Age более 10 уникальных значений\n",
            "Пример значений: nan\n",
            "В колонке Age - 3292 нулевых значений\n",
            "В колонке Age - 96708 ненулевых значений\n",
            "\n",
            " ***********************************\n",
            "Информация о колонке SibSp\n",
            "В колонке SibSp следующие уникальные значения: [2 0 1 3 4 8 5]\n",
            "В колонке SibSp - 0 нулевых значений\n",
            "В колонке SibSp - 100000 ненулевых значений\n",
            "\n",
            " ***********************************\n",
            "Информация о колонке Parch\n",
            "В колонке Parch следующие уникальные значения: [0 2 1 4 3 5 6 9]\n",
            "В колонке Parch - 0 нулевых значений\n",
            "В колонке Parch - 100000 ненулевых значений\n",
            "\n",
            " ***********************************\n",
            "Информация о колонке Ticket\n",
            "В колонке Ticket более 10 уникальных значений\n",
            "Пример значений: PC 50786\n",
            "В колонке Ticket - 4623 нулевых значений\n",
            "В колонке Ticket - 95377 ненулевых значений\n",
            "\n",
            " ***********************************\n",
            "Информация о колонке Fare\n",
            "В колонке Fare более 10 уникальных значений\n",
            "Пример значений: 26.32\n",
            "В колонке Fare - 134 нулевых значений\n",
            "В колонке Fare - 99866 ненулевых значений\n",
            "\n",
            " ***********************************\n",
            "Информация о колонке Cabin\n",
            "В колонке Cabin более 10 уникальных значений\n",
            "Пример значений: D16658\n",
            "В колонке Cabin - 67866 нулевых значений\n",
            "В колонке Cabin - 32134 ненулевых значений\n",
            "\n",
            " ***********************************\n",
            "Информация о колонке Embarked\n",
            "В колонке Embarked следующие уникальные значения: ['S' 'C' 'Q' nan]\n",
            "В колонке Embarked - 250 нулевых значений\n",
            "В колонке Embarked - 99750 ненулевых значений\n",
            "\n",
            " ***********************************\n"
          ],
          "name": "stdout"
        }
      ]
    },
    {
      "cell_type": "markdown",
      "metadata": {
        "id": "QdYluTYUoPZc"
      },
      "source": [
        "Из функции ниже видно, что колонок с нулевыми значениями - 5\n",
        "\n",
        "Age\n",
        "\n",
        "Ticket\n",
        "\n",
        "Fare\n",
        "\n",
        "Cabin\n",
        "\n",
        "Embarked"
      ]
    },
    {
      "cell_type": "code",
      "metadata": {
        "colab": {
          "base_uri": "https://localhost:8080/",
          "height": 254
        },
        "id": "FOHjYTLXmNXT",
        "outputId": "44decd68-a10f-47b7-d66b-edbd3c965395"
      },
      "source": [
        "train.corr()"
      ],
      "execution_count": null,
      "outputs": [
        {
          "output_type": "execute_result",
          "data": {
            "text/html": [
              "<div>\n",
              "<style scoped>\n",
              "    .dataframe tbody tr th:only-of-type {\n",
              "        vertical-align: middle;\n",
              "    }\n",
              "\n",
              "    .dataframe tbody tr th {\n",
              "        vertical-align: top;\n",
              "    }\n",
              "\n",
              "    .dataframe thead th {\n",
              "        text-align: right;\n",
              "    }\n",
              "</style>\n",
              "<table border=\"1\" class=\"dataframe\">\n",
              "  <thead>\n",
              "    <tr style=\"text-align: right;\">\n",
              "      <th></th>\n",
              "      <th>PassengerId</th>\n",
              "      <th>Survived</th>\n",
              "      <th>Pclass</th>\n",
              "      <th>Age</th>\n",
              "      <th>SibSp</th>\n",
              "      <th>Parch</th>\n",
              "      <th>Fare</th>\n",
              "    </tr>\n",
              "  </thead>\n",
              "  <tbody>\n",
              "    <tr>\n",
              "      <th>PassengerId</th>\n",
              "      <td>1.000000</td>\n",
              "      <td>0.001956</td>\n",
              "      <td>-0.000893</td>\n",
              "      <td>-0.002654</td>\n",
              "      <td>0.001000</td>\n",
              "      <td>0.000411</td>\n",
              "      <td>-0.001036</td>\n",
              "    </tr>\n",
              "    <tr>\n",
              "      <th>Survived</th>\n",
              "      <td>0.001956</td>\n",
              "      <td>1.000000</td>\n",
              "      <td>-0.289723</td>\n",
              "      <td>0.103895</td>\n",
              "      <td>-0.007587</td>\n",
              "      <td>0.023352</td>\n",
              "      <td>0.187534</td>\n",
              "    </tr>\n",
              "    <tr>\n",
              "      <th>Pclass</th>\n",
              "      <td>-0.000893</td>\n",
              "      <td>-0.289723</td>\n",
              "      <td>1.000000</td>\n",
              "      <td>-0.259109</td>\n",
              "      <td>-0.051436</td>\n",
              "      <td>-0.041848</td>\n",
              "      <td>-0.417354</td>\n",
              "    </tr>\n",
              "    <tr>\n",
              "      <th>Age</th>\n",
              "      <td>-0.002654</td>\n",
              "      <td>0.103895</td>\n",
              "      <td>-0.259109</td>\n",
              "      <td>1.000000</td>\n",
              "      <td>-0.112459</td>\n",
              "      <td>-0.125535</td>\n",
              "      <td>0.109164</td>\n",
              "    </tr>\n",
              "    <tr>\n",
              "      <th>SibSp</th>\n",
              "      <td>0.001000</td>\n",
              "      <td>-0.007587</td>\n",
              "      <td>-0.051436</td>\n",
              "      <td>-0.112459</td>\n",
              "      <td>1.000000</td>\n",
              "      <td>0.213126</td>\n",
              "      <td>0.059358</td>\n",
              "    </tr>\n",
              "    <tr>\n",
              "      <th>Parch</th>\n",
              "      <td>0.000411</td>\n",
              "      <td>0.023352</td>\n",
              "      <td>-0.041848</td>\n",
              "      <td>-0.125535</td>\n",
              "      <td>0.213126</td>\n",
              "      <td>1.000000</td>\n",
              "      <td>0.061443</td>\n",
              "    </tr>\n",
              "    <tr>\n",
              "      <th>Fare</th>\n",
              "      <td>-0.001036</td>\n",
              "      <td>0.187534</td>\n",
              "      <td>-0.417354</td>\n",
              "      <td>0.109164</td>\n",
              "      <td>0.059358</td>\n",
              "      <td>0.061443</td>\n",
              "      <td>1.000000</td>\n",
              "    </tr>\n",
              "  </tbody>\n",
              "</table>\n",
              "</div>"
            ],
            "text/plain": [
              "             PassengerId  Survived    Pclass  ...     SibSp     Parch      Fare\n",
              "PassengerId     1.000000  0.001956 -0.000893  ...  0.001000  0.000411 -0.001036\n",
              "Survived        0.001956  1.000000 -0.289723  ... -0.007587  0.023352  0.187534\n",
              "Pclass         -0.000893 -0.289723  1.000000  ... -0.051436 -0.041848 -0.417354\n",
              "Age            -0.002654  0.103895 -0.259109  ... -0.112459 -0.125535  0.109164\n",
              "SibSp           0.001000 -0.007587 -0.051436  ...  1.000000  0.213126  0.059358\n",
              "Parch           0.000411  0.023352 -0.041848  ...  0.213126  1.000000  0.061443\n",
              "Fare           -0.001036  0.187534 -0.417354  ...  0.059358  0.061443  1.000000\n",
              "\n",
              "[7 rows x 7 columns]"
            ]
          },
          "metadata": {
            "tags": []
          },
          "execution_count": 7
        }
      ]
    },
    {
      "cell_type": "markdown",
      "metadata": {
        "id": "ttvkLSGvm0iQ"
      },
      "source": [
        "Линейных зависимостей у переменных нет\n"
      ]
    },
    {
      "cell_type": "code",
      "metadata": {
        "colab": {
          "base_uri": "https://localhost:8080/",
          "height": 136
        },
        "id": "SxInX8LBlXBf",
        "outputId": "a50ec1b5-72ce-464f-cbcb-c484c599273d"
      },
      "source": [
        "train[['Pclass', 'Fare']].groupby('Pclass').agg({ 'Fare':np.median}).reset_index()"
      ],
      "execution_count": null,
      "outputs": [
        {
          "output_type": "execute_result",
          "data": {
            "text/html": [
              "<div>\n",
              "<style scoped>\n",
              "    .dataframe tbody tr th:only-of-type {\n",
              "        vertical-align: middle;\n",
              "    }\n",
              "\n",
              "    .dataframe tbody tr th {\n",
              "        vertical-align: top;\n",
              "    }\n",
              "\n",
              "    .dataframe thead th {\n",
              "        text-align: right;\n",
              "    }\n",
              "</style>\n",
              "<table border=\"1\" class=\"dataframe\">\n",
              "  <thead>\n",
              "    <tr style=\"text-align: right;\">\n",
              "      <th></th>\n",
              "      <th>Pclass</th>\n",
              "      <th>Fare</th>\n",
              "    </tr>\n",
              "  </thead>\n",
              "  <tbody>\n",
              "    <tr>\n",
              "      <th>0</th>\n",
              "      <td>1</td>\n",
              "      <td>63.58</td>\n",
              "    </tr>\n",
              "    <tr>\n",
              "      <th>1</th>\n",
              "      <td>2</td>\n",
              "      <td>22.72</td>\n",
              "    </tr>\n",
              "    <tr>\n",
              "      <th>2</th>\n",
              "      <td>3</td>\n",
              "      <td>10.96</td>\n",
              "    </tr>\n",
              "  </tbody>\n",
              "</table>\n",
              "</div>"
            ],
            "text/plain": [
              "   Pclass   Fare\n",
              "0       1  63.58\n",
              "1       2  22.72\n",
              "2       3  10.96"
            ]
          },
          "metadata": {
            "tags": []
          },
          "execution_count": 8
        }
      ]
    },
    {
      "cell_type": "markdown",
      "metadata": {
        "id": "CupknmoRpQKt"
      },
      "source": [
        "## Работа с колонкой Fare"
      ]
    },
    {
      "cell_type": "code",
      "metadata": {
        "colab": {
          "base_uri": "https://localhost:8080/"
        },
        "id": "Qeaf0zT2pWOY",
        "outputId": "c65fd800-6b6e-4788-ea97-f5bd909785ef"
      },
      "source": [
        "train[train[\"Pclass\"]==1]['Fare'].describe()"
      ],
      "execution_count": null,
      "outputs": [
        {
          "output_type": "execute_result",
          "data": {
            "text/plain": [
              "count    30275.000000\n",
              "mean        92.653113\n",
              "std         99.821850\n",
              "min          3.380000\n",
              "25%         27.890000\n",
              "50%         63.580000\n",
              "75%        116.875000\n",
              "max        744.660000\n",
              "Name: Fare, dtype: float64"
            ]
          },
          "metadata": {
            "tags": []
          },
          "execution_count": 9
        }
      ]
    },
    {
      "cell_type": "code",
      "metadata": {
        "colab": {
          "base_uri": "https://localhost:8080/"
        },
        "id": "GbZjv3fapbHq",
        "outputId": "d8a50056-48a9-4950-fdf5-04b0d245c21d"
      },
      "source": [
        "train[train[\"Pclass\"]==2]['Fare'].describe()"
      ],
      "execution_count": null,
      "outputs": [
        {
          "output_type": "execute_result",
          "data": {
            "text/plain": [
              "count    28637.000000\n",
              "mean        25.756003\n",
              "std         34.849110\n",
              "min          1.720000\n",
              "25%         10.170000\n",
              "50%         22.720000\n",
              "75%         29.210000\n",
              "max        613.430000\n",
              "Name: Fare, dtype: float64"
            ]
          },
          "metadata": {
            "tags": []
          },
          "execution_count": 10
        }
      ]
    },
    {
      "cell_type": "code",
      "metadata": {
        "colab": {
          "base_uri": "https://localhost:8080/"
        },
        "id": "7vC5ULfnqF0b",
        "outputId": "68f51aa7-144a-495c-9230-7feb3b300fb9"
      },
      "source": [
        "train[train[\"Pclass\"]==3]['Fare'].describe()"
      ],
      "execution_count": null,
      "outputs": [
        {
          "output_type": "execute_result",
          "data": {
            "text/plain": [
              "count    40954.000000\n",
              "mean        20.618226\n",
              "std         32.621763\n",
              "min          0.680000\n",
              "25%          8.540000\n",
              "50%         10.960000\n",
              "75%         25.770000\n",
              "max        640.790000\n",
              "Name: Fare, dtype: float64"
            ]
          },
          "metadata": {
            "tags": []
          },
          "execution_count": 11
        }
      ]
    },
    {
      "cell_type": "code",
      "metadata": {
        "id": "pPmFFwdbKp6m"
      },
      "source": [
        "train.loc[(train[\"Pclass\"]==1) & (train['Fare'].isna()), 'Fare']=92.3\n",
        "test.loc[(test[\"Pclass\"]==1) & (test['Fare'].isna()), 'Fare']=92.3"
      ],
      "execution_count": null,
      "outputs": []
    },
    {
      "cell_type": "code",
      "metadata": {
        "id": "RL8MtOJ_r032"
      },
      "source": [
        "train.loc[(train[\"Pclass\"]==2) & (train['Fare'].isna()), 'Fare']=25.7\n",
        "test.loc[(test[\"Pclass\"]==2) & (test['Fare'].isna()), 'Fare']=25.7\n"
      ],
      "execution_count": null,
      "outputs": []
    },
    {
      "cell_type": "code",
      "metadata": {
        "id": "5qYEOR3TLkEp"
      },
      "source": [
        "train.loc[(train[\"Pclass\"]==3) & (train['Fare'].isna()), 'Fare']=20.6\n",
        "test.loc[(test[\"Pclass\"]==3) & (test['Fare'].isna()), 'Fare']=20.6"
      ],
      "execution_count": null,
      "outputs": []
    },
    {
      "cell_type": "markdown",
      "metadata": {
        "id": "I1cDTtN9L0_K"
      },
      "source": [
        "Проверить на нулевые значения колонку Fare"
      ]
    },
    {
      "cell_type": "code",
      "metadata": {
        "id": "tKMqC6yXr06s",
        "colab": {
          "base_uri": "https://localhost:8080/"
        },
        "outputId": "70cb082c-aa4f-4a23-d8f1-e6dcfb388fb6"
      },
      "source": [
        "train['Fare'].isna().sum()"
      ],
      "execution_count": null,
      "outputs": [
        {
          "output_type": "execute_result",
          "data": {
            "text/plain": [
              "0"
            ]
          },
          "metadata": {
            "tags": []
          },
          "execution_count": 15
        }
      ]
    },
    {
      "cell_type": "markdown",
      "metadata": {
        "id": "q4-sm7SkMxwW"
      },
      "source": [
        "## Работа с колонкой Age"
      ]
    },
    {
      "cell_type": "markdown",
      "metadata": {
        "id": "HZgiXJzQM4fc"
      },
      "source": [
        "Распределение по классу и по полу"
      ]
    },
    {
      "cell_type": "code",
      "metadata": {
        "id": "xoozNROgr09N",
        "colab": {
          "base_uri": "https://localhost:8080/",
          "height": 166
        },
        "outputId": "12f3bd64-3b51-4a88-b9d2-9109fc38318c"
      },
      "source": [
        "train[['Age', 'Pclass']].groupby('Pclass').aggregate({'Age':'mean'})"
      ],
      "execution_count": null,
      "outputs": [
        {
          "output_type": "execute_result",
          "data": {
            "text/html": [
              "<div>\n",
              "<style scoped>\n",
              "    .dataframe tbody tr th:only-of-type {\n",
              "        vertical-align: middle;\n",
              "    }\n",
              "\n",
              "    .dataframe tbody tr th {\n",
              "        vertical-align: top;\n",
              "    }\n",
              "\n",
              "    .dataframe thead th {\n",
              "        text-align: right;\n",
              "    }\n",
              "</style>\n",
              "<table border=\"1\" class=\"dataframe\">\n",
              "  <thead>\n",
              "    <tr style=\"text-align: right;\">\n",
              "      <th></th>\n",
              "      <th>Age</th>\n",
              "    </tr>\n",
              "    <tr>\n",
              "      <th>Pclass</th>\n",
              "      <th></th>\n",
              "    </tr>\n",
              "  </thead>\n",
              "  <tbody>\n",
              "    <tr>\n",
              "      <th>1</th>\n",
              "      <td>44.774464</td>\n",
              "    </tr>\n",
              "    <tr>\n",
              "      <th>2</th>\n",
              "      <td>38.631237</td>\n",
              "    </tr>\n",
              "    <tr>\n",
              "      <th>3</th>\n",
              "      <td>33.407362</td>\n",
              "    </tr>\n",
              "  </tbody>\n",
              "</table>\n",
              "</div>"
            ],
            "text/plain": [
              "              Age\n",
              "Pclass           \n",
              "1       44.774464\n",
              "2       38.631237\n",
              "3       33.407362"
            ]
          },
          "metadata": {
            "tags": []
          },
          "execution_count": 16
        }
      ]
    },
    {
      "cell_type": "code",
      "metadata": {
        "id": "zS_TmotDr0_4",
        "colab": {
          "base_uri": "https://localhost:8080/",
          "height": 136
        },
        "outputId": "2b2849b5-a41e-4d0c-fc14-0dbab0e60904"
      },
      "source": [
        "train[['Age', 'Sex']].groupby('Sex').aggregate({'Age':'mean'})"
      ],
      "execution_count": null,
      "outputs": [
        {
          "output_type": "execute_result",
          "data": {
            "text/html": [
              "<div>\n",
              "<style scoped>\n",
              "    .dataframe tbody tr th:only-of-type {\n",
              "        vertical-align: middle;\n",
              "    }\n",
              "\n",
              "    .dataframe tbody tr th {\n",
              "        vertical-align: top;\n",
              "    }\n",
              "\n",
              "    .dataframe thead th {\n",
              "        text-align: right;\n",
              "    }\n",
              "</style>\n",
              "<table border=\"1\" class=\"dataframe\">\n",
              "  <thead>\n",
              "    <tr style=\"text-align: right;\">\n",
              "      <th></th>\n",
              "      <th>Age</th>\n",
              "    </tr>\n",
              "    <tr>\n",
              "      <th>Sex</th>\n",
              "      <th></th>\n",
              "    </tr>\n",
              "  </thead>\n",
              "  <tbody>\n",
              "    <tr>\n",
              "      <th>female</th>\n",
              "      <td>40.044890</td>\n",
              "    </tr>\n",
              "    <tr>\n",
              "      <th>male</th>\n",
              "      <td>37.030884</td>\n",
              "    </tr>\n",
              "  </tbody>\n",
              "</table>\n",
              "</div>"
            ],
            "text/plain": [
              "              Age\n",
              "Sex              \n",
              "female  40.044890\n",
              "male    37.030884"
            ]
          },
          "metadata": {
            "tags": []
          },
          "execution_count": 17
        }
      ]
    },
    {
      "cell_type": "code",
      "metadata": {
        "id": "E02Br4Mgr1RO",
        "colab": {
          "base_uri": "https://localhost:8080/"
        },
        "outputId": "bcefaf54-e538-43e8-c898-096d07cbbee9"
      },
      "source": [
        "train[(train['Pclass']==1)  & (train['Sex']=='male')]['Age'].describe()"
      ],
      "execution_count": null,
      "outputs": [
        {
          "output_type": "execute_result",
          "data": {
            "text/plain": [
              "count    13751.000000\n",
              "mean        42.254922\n",
              "std         14.554998\n",
              "min          0.080000\n",
              "25%         32.000000\n",
              "50%         44.000000\n",
              "75%         53.000000\n",
              "max         80.000000\n",
              "Name: Age, dtype: float64"
            ]
          },
          "metadata": {
            "tags": []
          },
          "execution_count": 18
        }
      ]
    },
    {
      "cell_type": "code",
      "metadata": {
        "id": "otByq_bCr1WB",
        "colab": {
          "base_uri": "https://localhost:8080/"
        },
        "outputId": "ebcaa609-588d-43fc-cae1-b62323cabc34"
      },
      "source": [
        "train[(train['Pclass']==2)  & (train['Sex']=='male')]['Age'].describe()"
      ],
      "execution_count": null,
      "outputs": [
        {
          "output_type": "execute_result",
          "data": {
            "text/plain": [
              "count    12947.000000\n",
              "mean        37.839926\n",
              "std         17.234730\n",
              "min          0.080000\n",
              "25%         25.000000\n",
              "50%         37.000000\n",
              "75%         52.000000\n",
              "max         85.000000\n",
              "Name: Age, dtype: float64"
            ]
          },
          "metadata": {
            "tags": []
          },
          "execution_count": 19
        }
      ]
    },
    {
      "cell_type": "code",
      "metadata": {
        "colab": {
          "base_uri": "https://localhost:8080/"
        },
        "id": "EAuca28nljXh",
        "outputId": "6e1ef40c-5474-4376-f98d-f85b69fcf447"
      },
      "source": [
        "train[(train['Pclass']==3)  & (train['Sex']=='male')]['Age'].describe()"
      ],
      "execution_count": null,
      "outputs": [
        {
          "output_type": "execute_result",
          "data": {
            "text/plain": [
              "count    27509.000000\n",
              "mean        34.038757\n",
              "std         17.159494\n",
              "min          0.080000\n",
              "25%         23.000000\n",
              "50%         31.000000\n",
              "75%         48.000000\n",
              "max         83.000000\n",
              "Name: Age, dtype: float64"
            ]
          },
          "metadata": {
            "tags": []
          },
          "execution_count": 20
        }
      ]
    },
    {
      "cell_type": "code",
      "metadata": {
        "id": "XR5MlIF9r1Ce",
        "colab": {
          "base_uri": "https://localhost:8080/"
        },
        "outputId": "9607b7f0-8346-4a82-f4eb-478a8f0cc7d2"
      },
      "source": [
        "train[(train['Pclass']==1)  & (train['Sex']=='female')]['Age'].describe()"
      ],
      "execution_count": null,
      "outputs": [
        {
          "output_type": "execute_result",
          "data": {
            "text/plain": [
              "count    15602.000000\n",
              "mean        46.995091\n",
              "std         14.480906\n",
              "min          0.330000\n",
              "25%         38.000000\n",
              "50%         49.000000\n",
              "75%         58.000000\n",
              "max         83.000000\n",
              "Name: Age, dtype: float64"
            ]
          },
          "metadata": {
            "tags": []
          },
          "execution_count": 21
        }
      ]
    },
    {
      "cell_type": "code",
      "metadata": {
        "id": "VVq5PB2Qr1Tg",
        "colab": {
          "base_uri": "https://localhost:8080/"
        },
        "outputId": "dfd27422-e306-42b3-8820-74f1176c2d08"
      },
      "source": [
        "train[(train['Pclass']==2)  & (train['Sex']=='female')]['Age'].describe()"
      ],
      "execution_count": null,
      "outputs": [
        {
          "output_type": "execute_result",
          "data": {
            "text/plain": [
              "count    14784.000000\n",
              "mean        39.324223\n",
              "std         20.865713\n",
              "min          0.080000\n",
              "25%         24.000000\n",
              "50%         40.000000\n",
              "75%         57.000000\n",
              "max         87.000000\n",
              "Name: Age, dtype: float64"
            ]
          },
          "metadata": {
            "tags": []
          },
          "execution_count": 22
        }
      ]
    },
    {
      "cell_type": "code",
      "metadata": {
        "id": "1fTsfzSsr1YX",
        "colab": {
          "base_uri": "https://localhost:8080/"
        },
        "outputId": "d98055be-02df-46c8-8131-627754e5539e"
      },
      "source": [
        "train[(train['Pclass']==3)  & (train['Sex']=='female')]['Age'].describe()"
      ],
      "execution_count": null,
      "outputs": [
        {
          "output_type": "execute_result",
          "data": {
            "text/plain": [
              "count    12115.000000\n",
              "mean        31.973681\n",
              "std         21.252496\n",
              "min          0.080000\n",
              "25%         13.000000\n",
              "50%         28.000000\n",
              "75%         50.000000\n",
              "max         85.000000\n",
              "Name: Age, dtype: float64"
            ]
          },
          "metadata": {
            "tags": []
          },
          "execution_count": 23
        }
      ]
    },
    {
      "cell_type": "code",
      "metadata": {
        "id": "wvrbEM_ImDqY"
      },
      "source": [
        "train.loc[(train['Pclass']==1) & (train['Sex']=='male') & (train['Age'].isna()), 'Age'] = 42\n",
        "test.loc[(test['Pclass']==1) & (test['Sex']=='male') & (test['Age'].isna()), 'Age'] = 42"
      ],
      "execution_count": null,
      "outputs": []
    },
    {
      "cell_type": "code",
      "metadata": {
        "id": "YcHuAgwzmDwj"
      },
      "source": [
        "train.loc[(train['Pclass']==2) & (train['Sex']=='male') & (train['Age'].isna()), 'Age'] = 38\n",
        "test.loc[(test['Pclass']==2) & (test['Sex']=='male') & (test['Age'].isna()), 'Age'] = 38"
      ],
      "execution_count": null,
      "outputs": []
    },
    {
      "cell_type": "code",
      "metadata": {
        "id": "tk9HqfFGmD3r"
      },
      "source": [
        "train.loc[(train['Pclass']==3) & (train['Sex']=='male') & (train['Age'].isna()), 'Age'] = 34\n",
        "test.loc[(test['Pclass']==3) & (test['Sex']=='male') & (test['Age'].isna()), 'Age'] = 34"
      ],
      "execution_count": null,
      "outputs": []
    },
    {
      "cell_type": "code",
      "metadata": {
        "id": "ou_r5cPymD9f"
      },
      "source": [
        "train.loc[(train['Pclass']==1) & (train['Sex']=='female') & (train['Age'].isna()), 'Age'] = 47\n",
        "test.loc[(test['Pclass']==1) & (test['Sex']=='female') & (test['Age'].isna()), 'Age'] = 47"
      ],
      "execution_count": null,
      "outputs": []
    },
    {
      "cell_type": "code",
      "metadata": {
        "id": "Vo0CshJtmEBh"
      },
      "source": [
        "train.loc[(train['Pclass']==2) & (train['Sex']=='female') & (train['Age'].isna()), 'Age'] = 39\n",
        "test.loc[(test['Pclass']==2) & (test['Sex']=='female') & (test['Age'].isna()), 'Age'] = 39"
      ],
      "execution_count": null,
      "outputs": []
    },
    {
      "cell_type": "code",
      "metadata": {
        "id": "yz_NXOCumEEq"
      },
      "source": [
        "train.loc[(train['Pclass']==3) & (train['Sex']=='female') & (train['Age'].isna()), 'Age'] = 32\n",
        "test.loc[(test['Pclass']==3) & (test['Sex']=='female') & (test['Age'].isna()), 'Age'] = 32"
      ],
      "execution_count": null,
      "outputs": []
    },
    {
      "cell_type": "code",
      "metadata": {
        "colab": {
          "base_uri": "https://localhost:8080/",
          "height": 47
        },
        "id": "b_37QEwXmEIV",
        "outputId": "a068a679-1dc0-4982-e6f9-ac0d10624540"
      },
      "source": [
        "train[(train['Age'].isna())]"
      ],
      "execution_count": null,
      "outputs": [
        {
          "output_type": "execute_result",
          "data": {
            "text/html": [
              "<div>\n",
              "<style scoped>\n",
              "    .dataframe tbody tr th:only-of-type {\n",
              "        vertical-align: middle;\n",
              "    }\n",
              "\n",
              "    .dataframe tbody tr th {\n",
              "        vertical-align: top;\n",
              "    }\n",
              "\n",
              "    .dataframe thead th {\n",
              "        text-align: right;\n",
              "    }\n",
              "</style>\n",
              "<table border=\"1\" class=\"dataframe\">\n",
              "  <thead>\n",
              "    <tr style=\"text-align: right;\">\n",
              "      <th></th>\n",
              "      <th>PassengerId</th>\n",
              "      <th>Survived</th>\n",
              "      <th>Pclass</th>\n",
              "      <th>Name</th>\n",
              "      <th>Sex</th>\n",
              "      <th>Age</th>\n",
              "      <th>SibSp</th>\n",
              "      <th>Parch</th>\n",
              "      <th>Ticket</th>\n",
              "      <th>Fare</th>\n",
              "      <th>Cabin</th>\n",
              "      <th>Embarked</th>\n",
              "    </tr>\n",
              "  </thead>\n",
              "  <tbody>\n",
              "  </tbody>\n",
              "</table>\n",
              "</div>"
            ],
            "text/plain": [
              "Empty DataFrame\n",
              "Columns: [PassengerId, Survived, Pclass, Name, Sex, Age, SibSp, Parch, Ticket, Fare, Cabin, Embarked]\n",
              "Index: []"
            ]
          },
          "metadata": {
            "tags": []
          },
          "execution_count": 30
        }
      ]
    },
    {
      "cell_type": "markdown",
      "metadata": {
        "id": "NwsouyLJnoLZ"
      },
      "source": [
        "## Теперь работа с колонкой Embarked"
      ]
    },
    {
      "cell_type": "code",
      "metadata": {
        "colab": {
          "base_uri": "https://localhost:8080/",
          "height": 402
        },
        "id": "5AR25MHdmEK-",
        "outputId": "1fff3fe2-ac6f-4e0c-8109-372da936540d"
      },
      "source": [
        "train[(train['Embarked']=='S')]\n",
        "test[(test['Embarked']=='S')]"
      ],
      "execution_count": null,
      "outputs": [
        {
          "output_type": "execute_result",
          "data": {
            "text/html": [
              "<div>\n",
              "<style scoped>\n",
              "    .dataframe tbody tr th:only-of-type {\n",
              "        vertical-align: middle;\n",
              "    }\n",
              "\n",
              "    .dataframe tbody tr th {\n",
              "        vertical-align: top;\n",
              "    }\n",
              "\n",
              "    .dataframe thead th {\n",
              "        text-align: right;\n",
              "    }\n",
              "</style>\n",
              "<table border=\"1\" class=\"dataframe\">\n",
              "  <thead>\n",
              "    <tr style=\"text-align: right;\">\n",
              "      <th></th>\n",
              "      <th>PassengerId</th>\n",
              "      <th>Pclass</th>\n",
              "      <th>Name</th>\n",
              "      <th>Sex</th>\n",
              "      <th>Age</th>\n",
              "      <th>SibSp</th>\n",
              "      <th>Parch</th>\n",
              "      <th>Ticket</th>\n",
              "      <th>Fare</th>\n",
              "      <th>Cabin</th>\n",
              "      <th>Embarked</th>\n",
              "    </tr>\n",
              "  </thead>\n",
              "  <tbody>\n",
              "    <tr>\n",
              "      <th>0</th>\n",
              "      <td>100000</td>\n",
              "      <td>3</td>\n",
              "      <td>Holliday, Daniel</td>\n",
              "      <td>male</td>\n",
              "      <td>19.0</td>\n",
              "      <td>0</td>\n",
              "      <td>0</td>\n",
              "      <td>24745</td>\n",
              "      <td>63.01</td>\n",
              "      <td>NaN</td>\n",
              "      <td>S</td>\n",
              "    </tr>\n",
              "    <tr>\n",
              "      <th>1</th>\n",
              "      <td>100001</td>\n",
              "      <td>3</td>\n",
              "      <td>Nguyen, Lorraine</td>\n",
              "      <td>female</td>\n",
              "      <td>53.0</td>\n",
              "      <td>0</td>\n",
              "      <td>0</td>\n",
              "      <td>13264</td>\n",
              "      <td>5.81</td>\n",
              "      <td>NaN</td>\n",
              "      <td>S</td>\n",
              "    </tr>\n",
              "    <tr>\n",
              "      <th>3</th>\n",
              "      <td>100003</td>\n",
              "      <td>2</td>\n",
              "      <td>Larsen, Eric</td>\n",
              "      <td>male</td>\n",
              "      <td>25.0</td>\n",
              "      <td>0</td>\n",
              "      <td>0</td>\n",
              "      <td>314011</td>\n",
              "      <td>12.93</td>\n",
              "      <td>NaN</td>\n",
              "      <td>S</td>\n",
              "    </tr>\n",
              "    <tr>\n",
              "      <th>6</th>\n",
              "      <td>100006</td>\n",
              "      <td>1</td>\n",
              "      <td>Guerrero, Angel</td>\n",
              "      <td>female</td>\n",
              "      <td>48.0</td>\n",
              "      <td>1</td>\n",
              "      <td>2</td>\n",
              "      <td>PC 28237</td>\n",
              "      <td>221.94</td>\n",
              "      <td>B21146</td>\n",
              "      <td>S</td>\n",
              "    </tr>\n",
              "    <tr>\n",
              "      <th>7</th>\n",
              "      <td>100007</td>\n",
              "      <td>3</td>\n",
              "      <td>Payton, Brian</td>\n",
              "      <td>male</td>\n",
              "      <td>13.0</td>\n",
              "      <td>0</td>\n",
              "      <td>0</td>\n",
              "      <td>42031</td>\n",
              "      <td>9.41</td>\n",
              "      <td>NaN</td>\n",
              "      <td>S</td>\n",
              "    </tr>\n",
              "    <tr>\n",
              "      <th>...</th>\n",
              "      <td>...</td>\n",
              "      <td>...</td>\n",
              "      <td>...</td>\n",
              "      <td>...</td>\n",
              "      <td>...</td>\n",
              "      <td>...</td>\n",
              "      <td>...</td>\n",
              "      <td>...</td>\n",
              "      <td>...</td>\n",
              "      <td>...</td>\n",
              "      <td>...</td>\n",
              "    </tr>\n",
              "    <tr>\n",
              "      <th>99990</th>\n",
              "      <td>199990</td>\n",
              "      <td>3</td>\n",
              "      <td>Leroy, Morton</td>\n",
              "      <td>male</td>\n",
              "      <td>18.0</td>\n",
              "      <td>1</td>\n",
              "      <td>1</td>\n",
              "      <td>C.A. 458349</td>\n",
              "      <td>55.09</td>\n",
              "      <td>NaN</td>\n",
              "      <td>S</td>\n",
              "    </tr>\n",
              "    <tr>\n",
              "      <th>99992</th>\n",
              "      <td>199992</td>\n",
              "      <td>3</td>\n",
              "      <td>Sonsino, Paris</td>\n",
              "      <td>male</td>\n",
              "      <td>31.0</td>\n",
              "      <td>0</td>\n",
              "      <td>0</td>\n",
              "      <td>28965</td>\n",
              "      <td>10.07</td>\n",
              "      <td>NaN</td>\n",
              "      <td>S</td>\n",
              "    </tr>\n",
              "    <tr>\n",
              "      <th>99993</th>\n",
              "      <td>199993</td>\n",
              "      <td>3</td>\n",
              "      <td>Leftwich, Don</td>\n",
              "      <td>male</td>\n",
              "      <td>45.0</td>\n",
              "      <td>0</td>\n",
              "      <td>0</td>\n",
              "      <td>42267</td>\n",
              "      <td>7.02</td>\n",
              "      <td>NaN</td>\n",
              "      <td>S</td>\n",
              "    </tr>\n",
              "    <tr>\n",
              "      <th>99996</th>\n",
              "      <td>199996</td>\n",
              "      <td>1</td>\n",
              "      <td>Brown, Howard</td>\n",
              "      <td>male</td>\n",
              "      <td>59.0</td>\n",
              "      <td>1</td>\n",
              "      <td>0</td>\n",
              "      <td>13004</td>\n",
              "      <td>68.31</td>\n",
              "      <td>NaN</td>\n",
              "      <td>S</td>\n",
              "    </tr>\n",
              "    <tr>\n",
              "      <th>99997</th>\n",
              "      <td>199997</td>\n",
              "      <td>3</td>\n",
              "      <td>Lightfoot, Cameron</td>\n",
              "      <td>male</td>\n",
              "      <td>47.0</td>\n",
              "      <td>0</td>\n",
              "      <td>0</td>\n",
              "      <td>4383317</td>\n",
              "      <td>10.87</td>\n",
              "      <td>NaN</td>\n",
              "      <td>S</td>\n",
              "    </tr>\n",
              "  </tbody>\n",
              "</table>\n",
              "<p>68842 rows × 11 columns</p>\n",
              "</div>"
            ],
            "text/plain": [
              "       PassengerId  Pclass                Name  ...    Fare   Cabin  Embarked\n",
              "0           100000       3    Holliday, Daniel  ...   63.01     NaN         S\n",
              "1           100001       3    Nguyen, Lorraine  ...    5.81     NaN         S\n",
              "3           100003       2        Larsen, Eric  ...   12.93     NaN         S\n",
              "6           100006       1     Guerrero, Angel  ...  221.94  B21146         S\n",
              "7           100007       3       Payton, Brian  ...    9.41     NaN         S\n",
              "...            ...     ...                 ...  ...     ...     ...       ...\n",
              "99990       199990       3       Leroy, Morton  ...   55.09     NaN         S\n",
              "99992       199992       3      Sonsino, Paris  ...   10.07     NaN         S\n",
              "99993       199993       3       Leftwich, Don  ...    7.02     NaN         S\n",
              "99996       199996       1       Brown, Howard  ...   68.31     NaN         S\n",
              "99997       199997       3  Lightfoot, Cameron  ...   10.87     NaN         S\n",
              "\n",
              "[68842 rows x 11 columns]"
            ]
          },
          "metadata": {
            "tags": []
          },
          "execution_count": 31
        }
      ]
    },
    {
      "cell_type": "code",
      "metadata": {
        "id": "ifcuFoS7mEOy"
      },
      "source": [
        "embarked_class = train[['Embarked', 'Pclass']].groupby(['Embarked', 'Pclass']).agg({'Pclass':'count'}).rename(columns={'Embarked':'Embarked', 'Pclass':'Class', 'Pclass':'Count_class'}).reset_index()"
      ],
      "execution_count": null,
      "outputs": []
    },
    {
      "cell_type": "code",
      "metadata": {
        "id": "Xck54Mq4mERu"
      },
      "source": [
        "embarked_class['prevalence, %']=np.round(embarked_class.Count_class/sum(embarked_class.Count_class)*100, 1)"
      ],
      "execution_count": null,
      "outputs": []
    },
    {
      "cell_type": "code",
      "metadata": {
        "colab": {
          "base_uri": "https://localhost:8080/",
          "height": 314
        },
        "id": "29KJJHiHmEVG",
        "outputId": "1672e781-17c2-497a-ef55-275c728a02fb"
      },
      "source": [
        "embarked_class"
      ],
      "execution_count": null,
      "outputs": [
        {
          "output_type": "execute_result",
          "data": {
            "text/html": [
              "<div>\n",
              "<style scoped>\n",
              "    .dataframe tbody tr th:only-of-type {\n",
              "        vertical-align: middle;\n",
              "    }\n",
              "\n",
              "    .dataframe tbody tr th {\n",
              "        vertical-align: top;\n",
              "    }\n",
              "\n",
              "    .dataframe thead th {\n",
              "        text-align: right;\n",
              "    }\n",
              "</style>\n",
              "<table border=\"1\" class=\"dataframe\">\n",
              "  <thead>\n",
              "    <tr style=\"text-align: right;\">\n",
              "      <th></th>\n",
              "      <th>Embarked</th>\n",
              "      <th>Pclass</th>\n",
              "      <th>Count_class</th>\n",
              "      <th>prevalence, %</th>\n",
              "    </tr>\n",
              "  </thead>\n",
              "  <tbody>\n",
              "    <tr>\n",
              "      <th>0</th>\n",
              "      <td>C</td>\n",
              "      <td>1</td>\n",
              "      <td>11843</td>\n",
              "      <td>11.9</td>\n",
              "    </tr>\n",
              "    <tr>\n",
              "      <th>1</th>\n",
              "      <td>C</td>\n",
              "      <td>2</td>\n",
              "      <td>6156</td>\n",
              "      <td>6.2</td>\n",
              "    </tr>\n",
              "    <tr>\n",
              "      <th>2</th>\n",
              "      <td>C</td>\n",
              "      <td>3</td>\n",
              "      <td>4188</td>\n",
              "      <td>4.2</td>\n",
              "    </tr>\n",
              "    <tr>\n",
              "      <th>3</th>\n",
              "      <td>Q</td>\n",
              "      <td>1</td>\n",
              "      <td>3751</td>\n",
              "      <td>3.8</td>\n",
              "    </tr>\n",
              "    <tr>\n",
              "      <th>4</th>\n",
              "      <td>Q</td>\n",
              "      <td>2</td>\n",
              "      <td>844</td>\n",
              "      <td>0.8</td>\n",
              "    </tr>\n",
              "    <tr>\n",
              "      <th>5</th>\n",
              "      <td>Q</td>\n",
              "      <td>3</td>\n",
              "      <td>829</td>\n",
              "      <td>0.8</td>\n",
              "    </tr>\n",
              "    <tr>\n",
              "      <th>6</th>\n",
              "      <td>S</td>\n",
              "      <td>1</td>\n",
              "      <td>14635</td>\n",
              "      <td>14.7</td>\n",
              "    </tr>\n",
              "    <tr>\n",
              "      <th>7</th>\n",
              "      <td>S</td>\n",
              "      <td>2</td>\n",
              "      <td>21609</td>\n",
              "      <td>21.7</td>\n",
              "    </tr>\n",
              "    <tr>\n",
              "      <th>8</th>\n",
              "      <td>S</td>\n",
              "      <td>3</td>\n",
              "      <td>35895</td>\n",
              "      <td>36.0</td>\n",
              "    </tr>\n",
              "  </tbody>\n",
              "</table>\n",
              "</div>"
            ],
            "text/plain": [
              "  Embarked  Pclass  Count_class  prevalence, %\n",
              "0        C       1        11843           11.9\n",
              "1        C       2         6156            6.2\n",
              "2        C       3         4188            4.2\n",
              "3        Q       1         3751            3.8\n",
              "4        Q       2          844            0.8\n",
              "5        Q       3          829            0.8\n",
              "6        S       1        14635           14.7\n",
              "7        S       2        21609           21.7\n",
              "8        S       3        35895           36.0"
            ]
          },
          "metadata": {
            "tags": []
          },
          "execution_count": 34
        }
      ]
    },
    {
      "cell_type": "code",
      "metadata": {
        "id": "DbofPaAgtWnO"
      },
      "source": [
        "train.loc[(train['Embarked'].isna()) & (train['Pclass']==3), 'Embarked'] = 'S'\n",
        "test.loc[(test['Embarked'].isna()) & (test['Pclass']==3), 'Embarked'] = 'S'"
      ],
      "execution_count": null,
      "outputs": []
    },
    {
      "cell_type": "code",
      "metadata": {
        "id": "5nSCwll8t5bL"
      },
      "source": [
        "train.loc[(train['Embarked'].isna()) & (train['Pclass']==2), 'Embarked'] = 'Q'\n",
        "test.loc[(test['Embarked'].isna()) & (test['Pclass']==2), 'Embarked'] = 'Q'"
      ],
      "execution_count": null,
      "outputs": []
    },
    {
      "cell_type": "code",
      "metadata": {
        "id": "EExkUVrXuRvW"
      },
      "source": [
        "train.loc[(train['Embarked'].isna()) & (train['Pclass']==1), 'Embarked'] = 'C'\n",
        "test.loc[(test['Embarked'].isna()) & (test['Pclass']==1), 'Embarked'] = 'C'"
      ],
      "execution_count": null,
      "outputs": []
    },
    {
      "cell_type": "code",
      "metadata": {
        "colab": {
          "base_uri": "https://localhost:8080/",
          "height": 47
        },
        "id": "kWrHMcU3mEbV",
        "outputId": "d61399e2-e3f2-40be-f867-c93bff240e2f"
      },
      "source": [
        "train[(train['Embarked'].isna())]"
      ],
      "execution_count": null,
      "outputs": [
        {
          "output_type": "execute_result",
          "data": {
            "text/html": [
              "<div>\n",
              "<style scoped>\n",
              "    .dataframe tbody tr th:only-of-type {\n",
              "        vertical-align: middle;\n",
              "    }\n",
              "\n",
              "    .dataframe tbody tr th {\n",
              "        vertical-align: top;\n",
              "    }\n",
              "\n",
              "    .dataframe thead th {\n",
              "        text-align: right;\n",
              "    }\n",
              "</style>\n",
              "<table border=\"1\" class=\"dataframe\">\n",
              "  <thead>\n",
              "    <tr style=\"text-align: right;\">\n",
              "      <th></th>\n",
              "      <th>PassengerId</th>\n",
              "      <th>Survived</th>\n",
              "      <th>Pclass</th>\n",
              "      <th>Name</th>\n",
              "      <th>Sex</th>\n",
              "      <th>Age</th>\n",
              "      <th>SibSp</th>\n",
              "      <th>Parch</th>\n",
              "      <th>Ticket</th>\n",
              "      <th>Fare</th>\n",
              "      <th>Cabin</th>\n",
              "      <th>Embarked</th>\n",
              "    </tr>\n",
              "  </thead>\n",
              "  <tbody>\n",
              "  </tbody>\n",
              "</table>\n",
              "</div>"
            ],
            "text/plain": [
              "Empty DataFrame\n",
              "Columns: [PassengerId, Survived, Pclass, Name, Sex, Age, SibSp, Parch, Ticket, Fare, Cabin, Embarked]\n",
              "Index: []"
            ]
          },
          "metadata": {
            "tags": []
          },
          "execution_count": 38
        }
      ]
    },
    {
      "cell_type": "code",
      "metadata": {
        "id": "SYufZ8ybmEx6"
      },
      "source": [
        ""
      ],
      "execution_count": null,
      "outputs": []
    },
    {
      "cell_type": "markdown",
      "metadata": {
        "id": "Vs015XzadmYm"
      },
      "source": [
        "Колонка Cabin в основном состоит из нулевых значений, поэтому заполнить ее какими-либо данными не представляется возможным. Ее убираем"
      ]
    },
    {
      "cell_type": "code",
      "metadata": {
        "id": "_3XSTvhUeoYM"
      },
      "source": [
        "train=train.drop(labels='Cabin', axis=1)\n",
        "test=test.drop(labels='Cabin', axis=1)"
      ],
      "execution_count": null,
      "outputs": []
    },
    {
      "cell_type": "markdown",
      "metadata": {
        "id": "6iKiJ_8zufMK"
      },
      "source": [
        "Также уберем колонку Ticket"
      ]
    },
    {
      "cell_type": "code",
      "metadata": {
        "id": "J_o2X1LYulim"
      },
      "source": [
        "train=train.drop(labels='Ticket', axis=1)\n",
        "test=test.drop(labels='Ticket', axis=1)"
      ],
      "execution_count": null,
      "outputs": []
    },
    {
      "cell_type": "markdown",
      "metadata": {
        "id": "hTfmDMVtu1Si"
      },
      "source": [
        "Еще раз смотрим на описание всего получившегося датасета"
      ]
    },
    {
      "cell_type": "code",
      "metadata": {
        "colab": {
          "base_uri": "https://localhost:8080/"
        },
        "id": "fcAhjXXbu6Ji",
        "outputId": "12aa93cb-504d-47d7-d624-905fef2f8692"
      },
      "source": [
        "describe_dataset(train)"
      ],
      "execution_count": null,
      "outputs": [
        {
          "output_type": "stream",
          "text": [
            "всего 10 колонок\n",
            "Информация о колонке PassengerId\n",
            "В колонке PassengerId более 10 уникальных значений\n",
            "Пример значений: 100\n",
            "В колонке PassengerId - 0 нулевых значений\n",
            "В колонке PassengerId - 100000 ненулевых значений\n",
            "\n",
            " ***********************************\n",
            "Информация о колонке Survived\n",
            "В колонке Survived следующие уникальные значения: [1 0]\n",
            "В колонке Survived - 0 нулевых значений\n",
            "В колонке Survived - 100000 ненулевых значений\n",
            "\n",
            " ***********************************\n",
            "Информация о колонке Pclass\n",
            "В колонке Pclass следующие уникальные значения: [1 3 2]\n",
            "В колонке Pclass - 0 нулевых значений\n",
            "В колонке Pclass - 100000 ненулевых значений\n",
            "\n",
            " ***********************************\n",
            "Информация о колонке Name\n",
            "В колонке Name более 10 уникальных значений\n",
            "Пример значений: Farber, Efrain\n",
            "В колонке Name - 0 нулевых значений\n",
            "В колонке Name - 100000 ненулевых значений\n",
            "\n",
            " ***********************************\n",
            "Информация о колонке Sex\n",
            "В колонке Sex следующие уникальные значения: ['male' 'female']\n",
            "В колонке Sex - 0 нулевых значений\n",
            "В колонке Sex - 100000 ненулевых значений\n",
            "\n",
            " ***********************************\n",
            "Информация о колонке Age\n",
            "В колонке Age более 10 уникальных значений\n",
            "Пример значений: 38.0\n",
            "В колонке Age - 0 нулевых значений\n",
            "В колонке Age - 100000 ненулевых значений\n",
            "\n",
            " ***********************************\n",
            "Информация о колонке SibSp\n",
            "В колонке SibSp следующие уникальные значения: [2 0 1 3 4 8 5]\n",
            "В колонке SibSp - 0 нулевых значений\n",
            "В колонке SibSp - 100000 ненулевых значений\n",
            "\n",
            " ***********************************\n",
            "Информация о колонке Parch\n",
            "В колонке Parch следующие уникальные значения: [0 2 1 4 3 5 6 9]\n",
            "В колонке Parch - 0 нулевых значений\n",
            "В колонке Parch - 100000 ненулевых значений\n",
            "\n",
            " ***********************************\n",
            "Информация о колонке Fare\n",
            "В колонке Fare более 10 уникальных значений\n",
            "Пример значений: 26.32\n",
            "В колонке Fare - 0 нулевых значений\n",
            "В колонке Fare - 100000 ненулевых значений\n",
            "\n",
            " ***********************************\n",
            "Информация о колонке Embarked\n",
            "В колонке Embarked следующие уникальные значения: ['S' 'C' 'Q']\n",
            "В колонке Embarked - 0 нулевых значений\n",
            "В колонке Embarked - 100000 ненулевых значений\n",
            "\n",
            " ***********************************\n"
          ],
          "name": "stdout"
        }
      ]
    },
    {
      "cell_type": "markdown",
      "metadata": {
        "id": "1fpIEfJUvHi8"
      },
      "source": [
        "Теперь нужно разобраться с текстовыми данными"
      ]
    },
    {
      "cell_type": "markdown",
      "metadata": {
        "id": "tfQvEdptvqH1"
      },
      "source": [
        "С колонкой Name пока ничего не сделать"
      ]
    },
    {
      "cell_type": "code",
      "metadata": {
        "id": "L1xXTgWFu6xl"
      },
      "source": [
        "train=train.drop(labels='Name', axis=1)\n",
        "test=test.drop(labels='Name', axis=1)"
      ],
      "execution_count": null,
      "outputs": []
    },
    {
      "cell_type": "code",
      "metadata": {
        "colab": {
          "base_uri": "https://localhost:8080/",
          "height": 195
        },
        "id": "d-a8R2Enu60Z",
        "outputId": "18f31b06-f6c9-4a8d-f06c-a1db8212b199"
      },
      "source": [
        "train.head()"
      ],
      "execution_count": null,
      "outputs": [
        {
          "output_type": "execute_result",
          "data": {
            "text/html": [
              "<div>\n",
              "<style scoped>\n",
              "    .dataframe tbody tr th:only-of-type {\n",
              "        vertical-align: middle;\n",
              "    }\n",
              "\n",
              "    .dataframe tbody tr th {\n",
              "        vertical-align: top;\n",
              "    }\n",
              "\n",
              "    .dataframe thead th {\n",
              "        text-align: right;\n",
              "    }\n",
              "</style>\n",
              "<table border=\"1\" class=\"dataframe\">\n",
              "  <thead>\n",
              "    <tr style=\"text-align: right;\">\n",
              "      <th></th>\n",
              "      <th>PassengerId</th>\n",
              "      <th>Survived</th>\n",
              "      <th>Pclass</th>\n",
              "      <th>Sex</th>\n",
              "      <th>Age</th>\n",
              "      <th>SibSp</th>\n",
              "      <th>Parch</th>\n",
              "      <th>Fare</th>\n",
              "      <th>Embarked</th>\n",
              "    </tr>\n",
              "  </thead>\n",
              "  <tbody>\n",
              "    <tr>\n",
              "      <th>0</th>\n",
              "      <td>0</td>\n",
              "      <td>1</td>\n",
              "      <td>1</td>\n",
              "      <td>male</td>\n",
              "      <td>42.00</td>\n",
              "      <td>2</td>\n",
              "      <td>0</td>\n",
              "      <td>27.14</td>\n",
              "      <td>S</td>\n",
              "    </tr>\n",
              "    <tr>\n",
              "      <th>1</th>\n",
              "      <td>1</td>\n",
              "      <td>0</td>\n",
              "      <td>3</td>\n",
              "      <td>male</td>\n",
              "      <td>34.00</td>\n",
              "      <td>0</td>\n",
              "      <td>0</td>\n",
              "      <td>13.35</td>\n",
              "      <td>S</td>\n",
              "    </tr>\n",
              "    <tr>\n",
              "      <th>2</th>\n",
              "      <td>2</td>\n",
              "      <td>0</td>\n",
              "      <td>3</td>\n",
              "      <td>male</td>\n",
              "      <td>0.33</td>\n",
              "      <td>1</td>\n",
              "      <td>2</td>\n",
              "      <td>71.29</td>\n",
              "      <td>S</td>\n",
              "    </tr>\n",
              "    <tr>\n",
              "      <th>3</th>\n",
              "      <td>3</td>\n",
              "      <td>0</td>\n",
              "      <td>3</td>\n",
              "      <td>male</td>\n",
              "      <td>19.00</td>\n",
              "      <td>0</td>\n",
              "      <td>0</td>\n",
              "      <td>13.04</td>\n",
              "      <td>S</td>\n",
              "    </tr>\n",
              "    <tr>\n",
              "      <th>4</th>\n",
              "      <td>4</td>\n",
              "      <td>1</td>\n",
              "      <td>3</td>\n",
              "      <td>male</td>\n",
              "      <td>25.00</td>\n",
              "      <td>0</td>\n",
              "      <td>0</td>\n",
              "      <td>7.76</td>\n",
              "      <td>S</td>\n",
              "    </tr>\n",
              "  </tbody>\n",
              "</table>\n",
              "</div>"
            ],
            "text/plain": [
              "   PassengerId  Survived  Pclass   Sex    Age  SibSp  Parch   Fare Embarked\n",
              "0            0         1       1  male  42.00      2      0  27.14        S\n",
              "1            1         0       3  male  34.00      0      0  13.35        S\n",
              "2            2         0       3  male   0.33      1      2  71.29        S\n",
              "3            3         0       3  male  19.00      0      0  13.04        S\n",
              "4            4         1       3  male  25.00      0      0   7.76        S"
            ]
          },
          "metadata": {
            "tags": []
          },
          "execution_count": 43
        }
      ]
    },
    {
      "cell_type": "markdown",
      "metadata": {
        "id": "EJaWVf_9v7K-"
      },
      "source": [
        "Пол заменим 0 - male и 1 - female"
      ]
    },
    {
      "cell_type": "code",
      "metadata": {
        "id": "seTdMvqWu63B"
      },
      "source": [
        "train.loc[(train['Sex']=='male'), 'Sex'] = 0\n",
        "test.loc[(test['Sex']=='male'), 'Sex'] = 0"
      ],
      "execution_count": null,
      "outputs": []
    },
    {
      "cell_type": "code",
      "metadata": {
        "id": "3S8ghxyRu65q"
      },
      "source": [
        "train.loc[(train['Sex']=='female'), 'Sex'] = 1\n",
        "test.loc[(test['Sex']=='female'), 'Sex'] = 1"
      ],
      "execution_count": null,
      "outputs": []
    },
    {
      "cell_type": "markdown",
      "metadata": {
        "id": "GwPSDusOwf48"
      },
      "source": [
        "Теперь с колонкой Embarked"
      ]
    },
    {
      "cell_type": "code",
      "metadata": {
        "id": "fUgIzTKku69V"
      },
      "source": [
        "train.loc[(train['Embarked']=='C'), 'Embarked'] = 0\n",
        "test.loc[(test['Embarked']=='C'), 'Embarked'] = 0"
      ],
      "execution_count": null,
      "outputs": []
    },
    {
      "cell_type": "code",
      "metadata": {
        "id": "G26qVgSCw8Mb"
      },
      "source": [
        "train.loc[(train['Embarked']=='Q'), 'Embarked'] = 1\n",
        "test.loc[(test['Embarked']=='Q'), 'Embarked'] = 1"
      ],
      "execution_count": null,
      "outputs": []
    },
    {
      "cell_type": "code",
      "metadata": {
        "id": "wYTEs5xsw8a1"
      },
      "source": [
        "train.loc[(train['Embarked']=='S'), 'Embarked'] = 2\n",
        "test.loc[(test['Embarked']=='S'), 'Embarked'] = 2"
      ],
      "execution_count": null,
      "outputs": []
    },
    {
      "cell_type": "code",
      "metadata": {
        "colab": {
          "base_uri": "https://localhost:8080/"
        },
        "id": "fJ93CbT3xCjT",
        "outputId": "a057795f-d2da-4d65-bf8b-73f78f7cc810"
      },
      "source": [
        "describe_dataset(train)"
      ],
      "execution_count": null,
      "outputs": [
        {
          "output_type": "stream",
          "text": [
            "всего 9 колонок\n",
            "Информация о колонке PassengerId\n",
            "В колонке PassengerId более 10 уникальных значений\n",
            "Пример значений: 100\n",
            "В колонке PassengerId - 0 нулевых значений\n",
            "В колонке PassengerId - 100000 ненулевых значений\n",
            "\n",
            " ***********************************\n",
            "Информация о колонке Survived\n",
            "В колонке Survived следующие уникальные значения: [1 0]\n",
            "В колонке Survived - 0 нулевых значений\n",
            "В колонке Survived - 100000 ненулевых значений\n",
            "\n",
            " ***********************************\n",
            "Информация о колонке Pclass\n",
            "В колонке Pclass следующие уникальные значения: [1 3 2]\n",
            "В колонке Pclass - 0 нулевых значений\n",
            "В колонке Pclass - 100000 ненулевых значений\n",
            "\n",
            " ***********************************\n",
            "Информация о колонке Sex\n",
            "В колонке Sex следующие уникальные значения: [0 1]\n",
            "В колонке Sex - 0 нулевых значений\n",
            "В колонке Sex - 100000 ненулевых значений\n",
            "\n",
            " ***********************************\n",
            "Информация о колонке Age\n",
            "В колонке Age более 10 уникальных значений\n",
            "Пример значений: 38.0\n",
            "В колонке Age - 0 нулевых значений\n",
            "В колонке Age - 100000 ненулевых значений\n",
            "\n",
            " ***********************************\n",
            "Информация о колонке SibSp\n",
            "В колонке SibSp следующие уникальные значения: [2 0 1 3 4 8 5]\n",
            "В колонке SibSp - 0 нулевых значений\n",
            "В колонке SibSp - 100000 ненулевых значений\n",
            "\n",
            " ***********************************\n",
            "Информация о колонке Parch\n",
            "В колонке Parch следующие уникальные значения: [0 2 1 4 3 5 6 9]\n",
            "В колонке Parch - 0 нулевых значений\n",
            "В колонке Parch - 100000 ненулевых значений\n",
            "\n",
            " ***********************************\n",
            "Информация о колонке Fare\n",
            "В колонке Fare более 10 уникальных значений\n",
            "Пример значений: 26.32\n",
            "В колонке Fare - 0 нулевых значений\n",
            "В колонке Fare - 100000 ненулевых значений\n",
            "\n",
            " ***********************************\n",
            "Информация о колонке Embarked\n",
            "В колонке Embarked следующие уникальные значения: [2 0 1]\n",
            "В колонке Embarked - 0 нулевых значений\n",
            "В колонке Embarked - 100000 ненулевых значений\n",
            "\n",
            " ***********************************\n"
          ],
          "name": "stdout"
        }
      ]
    },
    {
      "cell_type": "markdown",
      "metadata": {
        "id": "Gz7wjJ5_xJiJ"
      },
      "source": [
        "Разделяем наш датасет на тестовыйЮ трейновый и валидационный"
      ]
    },
    {
      "cell_type": "code",
      "metadata": {
        "id": "o77WgqROez3i"
      },
      "source": [
        "train_sample, valid_sample = np.split(train.sample(frac=1, random_state=42), [int(0.8*len(train))])"
      ],
      "execution_count": null,
      "outputs": []
    },
    {
      "cell_type": "code",
      "metadata": {
        "id": "H44q5hxzyl0S"
      },
      "source": [
        "X = train_sample.drop(labels='Survived', axis=1)\n",
        "Y = train_sample['Survived']\n",
        "X_valid = valid_sample.drop(labels='Survived', axis=1)\n",
        "Y_valid = valid_sample['Survived']"
      ],
      "execution_count": null,
      "outputs": []
    },
    {
      "cell_type": "code",
      "metadata": {
        "colab": {
          "base_uri": "https://localhost:8080/",
          "height": 402
        },
        "id": "J0p38xq7zTsi",
        "outputId": "b1e8ab48-cbb6-4f91-8a8c-2f61389e3c7f"
      },
      "source": [
        "train_sample"
      ],
      "execution_count": null,
      "outputs": [
        {
          "output_type": "execute_result",
          "data": {
            "text/html": [
              "<div>\n",
              "<style scoped>\n",
              "    .dataframe tbody tr th:only-of-type {\n",
              "        vertical-align: middle;\n",
              "    }\n",
              "\n",
              "    .dataframe tbody tr th {\n",
              "        vertical-align: top;\n",
              "    }\n",
              "\n",
              "    .dataframe thead th {\n",
              "        text-align: right;\n",
              "    }\n",
              "</style>\n",
              "<table border=\"1\" class=\"dataframe\">\n",
              "  <thead>\n",
              "    <tr style=\"text-align: right;\">\n",
              "      <th></th>\n",
              "      <th>PassengerId</th>\n",
              "      <th>Survived</th>\n",
              "      <th>Pclass</th>\n",
              "      <th>Sex</th>\n",
              "      <th>Age</th>\n",
              "      <th>SibSp</th>\n",
              "      <th>Parch</th>\n",
              "      <th>Fare</th>\n",
              "      <th>Embarked</th>\n",
              "    </tr>\n",
              "  </thead>\n",
              "  <tbody>\n",
              "    <tr>\n",
              "      <th>75721</th>\n",
              "      <td>75721</td>\n",
              "      <td>1</td>\n",
              "      <td>2</td>\n",
              "      <td>1</td>\n",
              "      <td>57.0</td>\n",
              "      <td>0</td>\n",
              "      <td>0</td>\n",
              "      <td>8.32</td>\n",
              "      <td>0</td>\n",
              "    </tr>\n",
              "    <tr>\n",
              "      <th>80184</th>\n",
              "      <td>80184</td>\n",
              "      <td>1</td>\n",
              "      <td>3</td>\n",
              "      <td>0</td>\n",
              "      <td>26.0</td>\n",
              "      <td>0</td>\n",
              "      <td>0</td>\n",
              "      <td>6.17</td>\n",
              "      <td>2</td>\n",
              "    </tr>\n",
              "    <tr>\n",
              "      <th>19864</th>\n",
              "      <td>19864</td>\n",
              "      <td>0</td>\n",
              "      <td>3</td>\n",
              "      <td>1</td>\n",
              "      <td>31.0</td>\n",
              "      <td>0</td>\n",
              "      <td>0</td>\n",
              "      <td>7.47</td>\n",
              "      <td>2</td>\n",
              "    </tr>\n",
              "    <tr>\n",
              "      <th>76699</th>\n",
              "      <td>76699</td>\n",
              "      <td>1</td>\n",
              "      <td>2</td>\n",
              "      <td>1</td>\n",
              "      <td>41.0</td>\n",
              "      <td>0</td>\n",
              "      <td>0</td>\n",
              "      <td>8.16</td>\n",
              "      <td>2</td>\n",
              "    </tr>\n",
              "    <tr>\n",
              "      <th>92991</th>\n",
              "      <td>92991</td>\n",
              "      <td>1</td>\n",
              "      <td>2</td>\n",
              "      <td>1</td>\n",
              "      <td>26.0</td>\n",
              "      <td>0</td>\n",
              "      <td>0</td>\n",
              "      <td>61.50</td>\n",
              "      <td>2</td>\n",
              "    </tr>\n",
              "    <tr>\n",
              "      <th>...</th>\n",
              "      <td>...</td>\n",
              "      <td>...</td>\n",
              "      <td>...</td>\n",
              "      <td>...</td>\n",
              "      <td>...</td>\n",
              "      <td>...</td>\n",
              "      <td>...</td>\n",
              "      <td>...</td>\n",
              "      <td>...</td>\n",
              "    </tr>\n",
              "    <tr>\n",
              "      <th>6306</th>\n",
              "      <td>6306</td>\n",
              "      <td>1</td>\n",
              "      <td>1</td>\n",
              "      <td>1</td>\n",
              "      <td>52.0</td>\n",
              "      <td>0</td>\n",
              "      <td>0</td>\n",
              "      <td>29.58</td>\n",
              "      <td>2</td>\n",
              "    </tr>\n",
              "    <tr>\n",
              "      <th>51901</th>\n",
              "      <td>51901</td>\n",
              "      <td>1</td>\n",
              "      <td>3</td>\n",
              "      <td>0</td>\n",
              "      <td>26.0</td>\n",
              "      <td>0</td>\n",
              "      <td>0</td>\n",
              "      <td>23.31</td>\n",
              "      <td>2</td>\n",
              "    </tr>\n",
              "    <tr>\n",
              "      <th>6028</th>\n",
              "      <td>6028</td>\n",
              "      <td>0</td>\n",
              "      <td>3</td>\n",
              "      <td>0</td>\n",
              "      <td>30.0</td>\n",
              "      <td>4</td>\n",
              "      <td>0</td>\n",
              "      <td>12.49</td>\n",
              "      <td>2</td>\n",
              "    </tr>\n",
              "    <tr>\n",
              "      <th>58507</th>\n",
              "      <td>58507</td>\n",
              "      <td>0</td>\n",
              "      <td>1</td>\n",
              "      <td>0</td>\n",
              "      <td>52.0</td>\n",
              "      <td>1</td>\n",
              "      <td>2</td>\n",
              "      <td>73.88</td>\n",
              "      <td>2</td>\n",
              "    </tr>\n",
              "    <tr>\n",
              "      <th>2458</th>\n",
              "      <td>2458</td>\n",
              "      <td>1</td>\n",
              "      <td>2</td>\n",
              "      <td>0</td>\n",
              "      <td>23.0</td>\n",
              "      <td>0</td>\n",
              "      <td>0</td>\n",
              "      <td>7.78</td>\n",
              "      <td>2</td>\n",
              "    </tr>\n",
              "  </tbody>\n",
              "</table>\n",
              "<p>80000 rows × 9 columns</p>\n",
              "</div>"
            ],
            "text/plain": [
              "       PassengerId  Survived  Pclass Sex   Age  SibSp  Parch   Fare Embarked\n",
              "75721        75721         1       2   1  57.0      0      0   8.32        0\n",
              "80184        80184         1       3   0  26.0      0      0   6.17        2\n",
              "19864        19864         0       3   1  31.0      0      0   7.47        2\n",
              "76699        76699         1       2   1  41.0      0      0   8.16        2\n",
              "92991        92991         1       2   1  26.0      0      0  61.50        2\n",
              "...            ...       ...     ...  ..   ...    ...    ...    ...      ...\n",
              "6306          6306         1       1   1  52.0      0      0  29.58        2\n",
              "51901        51901         1       3   0  26.0      0      0  23.31        2\n",
              "6028          6028         0       3   0  30.0      4      0  12.49        2\n",
              "58507        58507         0       1   0  52.0      1      2  73.88        2\n",
              "2458          2458         1       2   0  23.0      0      0   7.78        2\n",
              "\n",
              "[80000 rows x 9 columns]"
            ]
          },
          "metadata": {
            "tags": []
          },
          "execution_count": 52
        }
      ]
    },
    {
      "cell_type": "code",
      "metadata": {
        "id": "cPOnYe2RxRtO"
      },
      "source": [
        "from sklearn.metrics import f1_score"
      ],
      "execution_count": null,
      "outputs": []
    },
    {
      "cell_type": "code",
      "metadata": {
        "id": "IXvj8s1LSHoV"
      },
      "source": [
        "from sklearn.ensemble import GradientBoostingClassifier"
      ],
      "execution_count": null,
      "outputs": []
    },
    {
      "cell_type": "code",
      "metadata": {
        "id": "Bfc0UP28SvNa"
      },
      "source": [
        "boosting = GradientBoostingClassifier(learning_rate=0.1, n_estimators=70, random_state=42).fit(X,Y)"
      ],
      "execution_count": null,
      "outputs": []
    },
    {
      "cell_type": "code",
      "metadata": {
        "id": "I4VbyYkcS0M4"
      },
      "source": [
        "y_pred_boost = boosting.predict(X_valid)"
      ],
      "execution_count": null,
      "outputs": []
    },
    {
      "cell_type": "code",
      "metadata": {
        "colab": {
          "base_uri": "https://localhost:8080/"
        },
        "id": "JYcoIsvfS8_A",
        "outputId": "7c90e72b-4d50-4973-cdcd-62814fdbff65"
      },
      "source": [
        "f1_score(Y_valid, y_pred_boost)"
      ],
      "execution_count": null,
      "outputs": [
        {
          "output_type": "execute_result",
          "data": {
            "text/plain": [
              "0.7347605436621362"
            ]
          },
          "metadata": {
            "tags": []
          },
          "execution_count": 57
        }
      ]
    },
    {
      "cell_type": "code",
      "metadata": {
        "id": "Qf9VefdyS_fz"
      },
      "source": [
        "y_pred_test = boosting.predict(test)"
      ],
      "execution_count": null,
      "outputs": []
    },
    {
      "cell_type": "code",
      "metadata": {
        "id": "-I06CBPPUjH5"
      },
      "source": [
        "test_prediction=pd.DataFrame(y_pred_test)"
      ],
      "execution_count": null,
      "outputs": []
    },
    {
      "cell_type": "code",
      "metadata": {
        "id": "6_7_BfsiZKkU"
      },
      "source": [
        "test_prediction['PassengerId'] = test['PassengerId']"
      ],
      "execution_count": null,
      "outputs": []
    },
    {
      "cell_type": "code",
      "metadata": {
        "id": "0birli5jUjUz"
      },
      "source": [
        "test_prediction = test_prediction[['PassengerId', 0]].rename(columns={0:'Survived'})"
      ],
      "execution_count": null,
      "outputs": []
    },
    {
      "cell_type": "code",
      "metadata": {
        "colab": {
          "base_uri": "https://localhost:8080/",
          "height": 402
        },
        "id": "Z_jOee7aZpD7",
        "outputId": "78d539db-4358-4893-c449-87e0afe7607a"
      },
      "source": [
        "test_prediction"
      ],
      "execution_count": null,
      "outputs": [
        {
          "output_type": "execute_result",
          "data": {
            "text/html": [
              "<div>\n",
              "<style scoped>\n",
              "    .dataframe tbody tr th:only-of-type {\n",
              "        vertical-align: middle;\n",
              "    }\n",
              "\n",
              "    .dataframe tbody tr th {\n",
              "        vertical-align: top;\n",
              "    }\n",
              "\n",
              "    .dataframe thead th {\n",
              "        text-align: right;\n",
              "    }\n",
              "</style>\n",
              "<table border=\"1\" class=\"dataframe\">\n",
              "  <thead>\n",
              "    <tr style=\"text-align: right;\">\n",
              "      <th></th>\n",
              "      <th>PassengerId</th>\n",
              "      <th>Survived</th>\n",
              "    </tr>\n",
              "  </thead>\n",
              "  <tbody>\n",
              "    <tr>\n",
              "      <th>0</th>\n",
              "      <td>100000</td>\n",
              "      <td>0</td>\n",
              "    </tr>\n",
              "    <tr>\n",
              "      <th>1</th>\n",
              "      <td>100001</td>\n",
              "      <td>0</td>\n",
              "    </tr>\n",
              "    <tr>\n",
              "      <th>2</th>\n",
              "      <td>100002</td>\n",
              "      <td>1</td>\n",
              "    </tr>\n",
              "    <tr>\n",
              "      <th>3</th>\n",
              "      <td>100003</td>\n",
              "      <td>0</td>\n",
              "    </tr>\n",
              "    <tr>\n",
              "      <th>4</th>\n",
              "      <td>100004</td>\n",
              "      <td>1</td>\n",
              "    </tr>\n",
              "    <tr>\n",
              "      <th>...</th>\n",
              "      <td>...</td>\n",
              "      <td>...</td>\n",
              "    </tr>\n",
              "    <tr>\n",
              "      <th>99995</th>\n",
              "      <td>199995</td>\n",
              "      <td>1</td>\n",
              "    </tr>\n",
              "    <tr>\n",
              "      <th>99996</th>\n",
              "      <td>199996</td>\n",
              "      <td>0</td>\n",
              "    </tr>\n",
              "    <tr>\n",
              "      <th>99997</th>\n",
              "      <td>199997</td>\n",
              "      <td>0</td>\n",
              "    </tr>\n",
              "    <tr>\n",
              "      <th>99998</th>\n",
              "      <td>199998</td>\n",
              "      <td>1</td>\n",
              "    </tr>\n",
              "    <tr>\n",
              "      <th>99999</th>\n",
              "      <td>199999</td>\n",
              "      <td>1</td>\n",
              "    </tr>\n",
              "  </tbody>\n",
              "</table>\n",
              "<p>100000 rows × 2 columns</p>\n",
              "</div>"
            ],
            "text/plain": [
              "       PassengerId  Survived\n",
              "0           100000         0\n",
              "1           100001         0\n",
              "2           100002         1\n",
              "3           100003         0\n",
              "4           100004         1\n",
              "...            ...       ...\n",
              "99995       199995         1\n",
              "99996       199996         0\n",
              "99997       199997         0\n",
              "99998       199998         1\n",
              "99999       199999         1\n",
              "\n",
              "[100000 rows x 2 columns]"
            ]
          },
          "metadata": {
            "tags": []
          },
          "execution_count": 70
        }
      ]
    },
    {
      "cell_type": "code",
      "metadata": {
        "id": "hDAXaOcQXTaK"
      },
      "source": [
        "test_prediction.to_csv('answer.csv', index=False)"
      ],
      "execution_count": null,
      "outputs": []
    },
    {
      "cell_type": "code",
      "metadata": {
        "id": "KxFKnP73Xmob"
      },
      "source": [
        ""
      ],
      "execution_count": null,
      "outputs": []
    }
  ]
}